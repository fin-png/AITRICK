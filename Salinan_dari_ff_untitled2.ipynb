{
  "nbformat": 4,
  "nbformat_minor": 0,
  "metadata": {
    "colab": {
      "provenance": [],
      "authorship_tag": "ABX9TyPyqdI7aAi4i+ySVscdMb1V",
      "include_colab_link": true
    },
    "kernelspec": {
      "name": "python3",
      "display_name": "Python 3"
    },
    "language_info": {
      "name": "python"
    }
  },
  "cells": [
    {
      "cell_type": "markdown",
      "metadata": {
        "id": "view-in-github",
        "colab_type": "text"
      },
      "source": [
        "<a href=\"https://colab.research.google.com/github/fin-png/coding-temperature/blob/main/Salinan_dari_ff_untitled2.ipynb\" target=\"_parent\"><img src=\"https://colab.research.google.com/assets/colab-badge.svg\" alt=\"Open In Colab\"/></a>"
      ]
    },
    {
      "cell_type": "code",
      "execution_count": null,
      "metadata": {
        "id": "sbtwOLEmp5tR"
      },
      "outputs": [],
      "source": [
        "# Import package yang dipake buat linear Regression\n",
        "import pandas as pd\n",
        "from sklearn.model_selection import train_test_split\n",
        "from sklearn.linear_model import LogisticRegression\n",
        "from sklearn.metrics import accuracy_score\n",
        "import seaborn as sns\n",
        "import matplotlib.pyplot as plt"
      ]
    },
    {
      "cell_type": "code",
      "source": [
        "# Step 1: Data Exploration and Preprocessing\n",
        "# Load the dataset\n",
        "df = pd.read_cvs('/mnt/data/bankloan.csv')"
      ],
      "metadata": {
        "id": "gDVeMGvUr9Zz"
      },
      "execution_count": null,
      "outputs": []
    },
    {
      "cell_type": "code",
      "source": [
        "# Inspect the data\n",
        "print(df.heard())\n",
        "print(df.info())\n",
        "print(df.describe())"
      ],
      "metadata": {
        "id": "YXlwFmy-tKpK"
      },
      "execution_count": null,
      "outputs": []
    },
    {
      "cell_type": "code",
      "source": [
        "# Handle missing values\n",
        "df = df.dropna()  # Example: Drop rows with missing values"
      ],
      "metadata": {
        "id": "UUyp-W-Wt9hY"
      },
      "execution_count": null,
      "outputs": []
    },
    {
      "cell_type": "code",
      "source": [
        "# Encode categorical variables if needed\n",
        "# Example:df['categorical_column'] = pd.get_dummies(df['categorical_column'])"
      ],
      "metadata": {
        "id": "7SDg5RJLuiia"
      },
      "execution_count": null,
      "outputs": []
    },
    {
      "cell_type": "code",
      "source": [
        "# Step 2:MOdel Building\n",
        "# Define features and target variable\n",
        "X = df.drop('default' , axis=1)\n",
        "Y = df['defauld']\n"
      ],
      "metadata": {
        "id": "xa7FjMByvqbU"
      },
      "execution_count": null,
      "outputs": []
    },
    {
      "cell_type": "code",
      "source": [
        "# Split the data\n",
        "X_train, X_test, y_train, y_test= train_test_split(X,y, test_size=02, random_state=42)"
      ],
      "metadata": {
        "id": "O5Vi0FFQ1Ir4"
      },
      "execution_count": null,
      "outputs": []
    },
    {
      "cell_type": "code",
      "source": [
        "# Create logistic regression model\n",
        "model = LogisticRegression()\n",
        "model.fit(X_train, y_train)\n"
      ],
      "metadata": {
        "id": "uHdonQYS1wHw"
      },
      "execution_count": null,
      "outputs": []
    },
    {
      "cell_type": "code",
      "source": [
        "# Step 3: Model Interpretation\n",
        "# Get the model coefficients\n",
        "coefficients = model.coef_[0]\n",
        "features = X.colomuns\n",
        "coef_df = pd.DataFrame({'Feature': feature, 'Coefficient': coefficients})\n",
        "print(coef_df)"
      ],
      "metadata": {
        "id": "7JLX1FTe37n8"
      },
      "execution_count": null,
      "outputs": []
    },
    {
      "cell_type": "code",
      "source": [
        "# Visual ceofficients\n",
        "sns.barplot(x='Coefficient', y='Feature', data=coef_df)\n",
        "plt.title('Feature Coefficients')\n",
        "plt.show()"
      ],
      "metadata": {
        "id": "1UH2czk28cwy"
      },
      "execution_count": null,
      "outputs": []
    },
    {
      "cell_type": "code",
      "source": [
        "# Step 4: Model Validation\n",
        "# Predict on test set\n",
        "y_pred = model.predict(X_test)"
      ],
      "metadata": {
        "id": "VQe0KkkpAprY"
      },
      "execution_count": null,
      "outputs": []
    },
    {
      "cell_type": "code",
      "source": [
        "# Evaluate the model\n",
        "accuray = accuracy_score(y_test, y_pred)\n",
        "print(f'Accuracy: {accuracy:.2f}')"
      ],
      "metadata": {
        "id": "3QAi-J_aBjYA"
      },
      "execution_count": null,
      "outputs": []
    }
  ]
}